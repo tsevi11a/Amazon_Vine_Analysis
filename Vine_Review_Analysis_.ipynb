{
  "nbformat": 4,
  "nbformat_minor": 0,
  "metadata": {
    "colab": {
      "name": "Vine_Review_Analysis .ipynb",
      "provenance": [],
      "collapsed_sections": []
    },
    "kernelspec": {
      "name": "python3",
      "display_name": "Python 3"
    },
    "language_info": {
      "name": "python"
    }
  },
  "cells": [
    {
      "cell_type": "code",
      "metadata": {
        "colab": {
          "base_uri": "https://localhost:8080/"
        },
        "id": "ZDyK79aERJmh",
        "outputId": "2f603d7b-2693-407f-ba31-bd6e61a5032d"
      },
      "source": [
        "import os\n",
        "# Find the latest version of spark 3.0 from http://www.apache.org/dist/spark/ and enter as the spark version\n",
        "# For example:\n",
        "# spark_version = 'spark-3.0.3'\n",
        "spark_version = 'spark-3.0.3'\n",
        "os.environ['SPARK_VERSION']=spark_version\n",
        "\n",
        "# Install Spark and Java\n",
        "!apt-get update\n",
        "!apt-get install openjdk-11-jdk-headless -qq > /dev/null\n",
        "!wget -q http://www.apache.org/dist/spark/$SPARK_VERSION/$SPARK_VERSION-bin-hadoop2.7.tgz\n",
        "!tar xf $SPARK_VERSION-bin-hadoop2.7.tgz\n",
        "!pip install -q findspark\n",
        "\n",
        "# Set Environment Variables\n",
        "import os\n",
        "os.environ[\"JAVA_HOME\"] = \"/usr/lib/jvm/java-11-openjdk-amd64\"\n",
        "os.environ[\"SPARK_HOME\"] = f\"/content/{spark_version}-bin-hadoop2.7\"\n",
        "\n",
        "# Start a SparkSession\n",
        "import findspark\n",
        "findspark.init()"
      ],
      "execution_count": 2,
      "outputs": [
        {
          "output_type": "stream",
          "name": "stdout",
          "text": [
            "\r0% [Working]\r            \rGet:1 https://cloud.r-project.org/bin/linux/ubuntu bionic-cran40/ InRelease [3,626 B]\n",
            "\r0% [Connecting to archive.ubuntu.com] [Connecting to security.ubuntu.com (91.18\r0% [Connecting to archive.ubuntu.com] [Connecting to security.ubuntu.com (91.18\r0% [1 InRelease gpgv 3,626 B] [Connecting to archive.ubuntu.com] [Connecting to\r                                                                               \rIgn:2 https://developer.download.nvidia.com/compute/cuda/repos/ubuntu1804/x86_64  InRelease\n",
            "Ign:3 https://developer.download.nvidia.com/compute/machine-learning/repos/ubuntu1804/x86_64  InRelease\n",
            "Hit:4 https://developer.download.nvidia.com/compute/cuda/repos/ubuntu1804/x86_64  Release\n",
            "Hit:5 https://developer.download.nvidia.com/compute/machine-learning/repos/ubuntu1804/x86_64  Release\n",
            "Get:6 http://security.ubuntu.com/ubuntu bionic-security InRelease [88.7 kB]\n",
            "Hit:7 http://ppa.launchpad.net/c2d4u.team/c2d4u4.0+/ubuntu bionic InRelease\n",
            "Hit:8 http://archive.ubuntu.com/ubuntu bionic InRelease\n",
            "Get:9 http://archive.ubuntu.com/ubuntu bionic-updates InRelease [88.7 kB]\n",
            "Hit:10 http://ppa.launchpad.net/cran/libgit2/ubuntu bionic InRelease\n",
            "Hit:12 http://ppa.launchpad.net/deadsnakes/ppa/ubuntu bionic InRelease\n",
            "Get:14 http://archive.ubuntu.com/ubuntu bionic-backports InRelease [74.6 kB]\n",
            "Hit:15 http://ppa.launchpad.net/graphics-drivers/ppa/ubuntu bionic InRelease\n",
            "Get:16 http://security.ubuntu.com/ubuntu bionic-security/restricted amd64 Packages [633 kB]\n",
            "Get:17 http://security.ubuntu.com/ubuntu bionic-security/main amd64 Packages [2,400 kB]\n",
            "Get:18 http://security.ubuntu.com/ubuntu bionic-security/universe amd64 Packages [1,434 kB]\n",
            "Get:19 http://archive.ubuntu.com/ubuntu bionic-updates/universe amd64 Packages [2,213 kB]\n",
            "Get:20 http://archive.ubuntu.com/ubuntu bionic-updates/main amd64 Packages [2,837 kB]\n",
            "Fetched 9,774 kB in 4s (2,420 kB/s)\n",
            "Reading package lists... Done\n"
          ]
        }
      ]
    },
    {
      "cell_type": "code",
      "metadata": {
        "id": "GIF9XGeyRieq"
      },
      "source": [
        "from pyspark.sql import SparkSession\n",
        "spark = SparkSession.builder.appName(\"Vine-Reviews\").getOrCreate()"
      ],
      "execution_count": 3,
      "outputs": []
    },
    {
      "cell_type": "code",
      "metadata": {
        "colab": {
          "base_uri": "https://localhost:8080/"
        },
        "id": "grStJn6lRihM",
        "outputId": "fe26cf90-874f-45a3-b6b5-c14367e7f129"
      },
      "source": [
        "# Load Amazon Data into Spark DataFrame\n",
        "from pyspark import SparkFiles\n",
        "url = \"https://s3.amazonaws.com/amazon-reviews-pds/tsv/amazon_reviews_us_Luggage_v1_00.tsv.gz\"\n",
        "spark.sparkContext.addFile(url)\n",
        "df = spark.read.option(\"encoding\", \"UTF-8\").csv(SparkFiles.get(\"\"), sep=\"\\t\", header=True, inferSchema=True)\n",
        "df.show(5)"
      ],
      "execution_count": 38,
      "outputs": [
        {
          "output_type": "stream",
          "name": "stdout",
          "text": [
            "+-----------+-----------+--------------+----------+--------------+--------------------+----------------+-----------+-------------+-----------+----+-----------------+--------------------+--------------------+-----------+\n",
            "|marketplace|customer_id|     review_id|product_id|product_parent|       product_title|product_category|star_rating|helpful_votes|total_votes|vine|verified_purchase|     review_headline|         review_body|review_date|\n",
            "+-----------+-----------+--------------+----------+--------------+--------------------+----------------+-----------+-------------+-----------+----+-----------------+--------------------+--------------------+-----------+\n",
            "|         US|   40884699| R9CO86UUJCAW5|B00VGTN02Y|     786681372|Teenage Mutant Ni...|         Luggage|          3|            0|          0|   N|                Y|my review of this...|my review of this...| 2015-08-31|\n",
            "|         US|   23208852|R3PR8X6QGVJ8B1|B005KIWL0E|     618251799|Kenneth Cole Reac...|         Luggage|          5|            0|          0|   N|                Y|          Five Stars|       Perfect size.| 2015-08-31|\n",
            "|         US|   17100246|R39BO2819ABUPF|B007UNSHJ6|     810480328|American Touriste...|         Luggage|          4|            0|          0|   N|                Y|            so good.|    So far, so good.| 2015-08-31|\n",
            "|         US|   13533670|R3ADL7V6EGGEEP|B00WHFNXB4|      20765193|15.5 Inch Purple ...|         Luggage|          4|            0|          0|   N|                Y|          Four Stars|seems nicely made...| 2015-08-31|\n",
            "|         US|   38541771|R1OXYPBPLVRMI5|B000M5NBYU|     812890709|Port & Company Zi...|         Luggage|          5|            0|          0|   N|                Y|           Dance Bag|Great bag for all...| 2015-08-31|\n",
            "+-----------+-----------+--------------+----------+--------------+--------------------+----------------+-----------+-------------+-----------+----+-----------------+--------------------+--------------------+-----------+\n",
            "only showing top 5 rows\n",
            "\n"
          ]
        }
      ]
    },
    {
      "cell_type": "code",
      "metadata": {
        "colab": {
          "base_uri": "https://localhost:8080/"
        },
        "id": "n9fIvz727GNp",
        "outputId": "e2f8e620-fb8c-4c07-de39-46c7b3880e96"
      },
      "source": [
        "# Create vine table\n",
        "vine_df = df.select([\"review_id\",\"star_rating\",\"helpful_votes\",\"total_votes\",\"vine\",\"verified_purchase\"])\n",
        "vine_df.show(5)"
      ],
      "execution_count": 39,
      "outputs": [
        {
          "output_type": "stream",
          "name": "stdout",
          "text": [
            "+--------------+-----------+-------------+-----------+----+-----------------+\n",
            "|     review_id|star_rating|helpful_votes|total_votes|vine|verified_purchase|\n",
            "+--------------+-----------+-------------+-----------+----+-----------------+\n",
            "| R9CO86UUJCAW5|          3|            0|          0|   N|                Y|\n",
            "|R3PR8X6QGVJ8B1|          5|            0|          0|   N|                Y|\n",
            "|R39BO2819ABUPF|          4|            0|          0|   N|                Y|\n",
            "|R3ADL7V6EGGEEP|          4|            0|          0|   N|                Y|\n",
            "|R1OXYPBPLVRMI5|          5|            0|          0|   N|                Y|\n",
            "+--------------+-----------+-------------+-----------+----+-----------------+\n",
            "only showing top 5 rows\n",
            "\n"
          ]
        }
      ]
    },
    {
      "cell_type": "code",
      "metadata": {
        "colab": {
          "base_uri": "https://localhost:8080/"
        },
        "id": "ednG5lPgRiof",
        "outputId": "baafb515-170e-4916-84c9-c072c50ede89"
      },
      "source": [
        "# Filter df for rows where 'total_votes' count is greater or equal to 20\n",
        "df_total_votes = vine_df.filter(vine_df[\"total_votes\"] >= 20)\n",
        "df_total_votes.show(10)"
      ],
      "execution_count": 13,
      "outputs": [
        {
          "output_type": "stream",
          "name": "stdout",
          "text": [
            "+--------------+-----------+-------------+-----------+----+-----------------+\n",
            "|     review_id|star_rating|helpful_votes|total_votes|vine|verified_purchase|\n",
            "+--------------+-----------+-------------+-----------+----+-----------------+\n",
            "|R11IBSD5E6HPSD|          1|           29|         31|   N|                Y|\n",
            "|R2KVWAYBPWK1OV|          5|           20|         22|   N|                N|\n",
            "|R1FLOE9E4ODIGR|          5|           34|         38|   N|                Y|\n",
            "| R6XTEZCSCUJ4J|          5|           20|         23|   N|                Y|\n",
            "|R2WVV9LQKIVMOX|          5|           23|         23|   N|                N|\n",
            "| RYIU6GIB4TYT2|          5|           30|         30|   N|                N|\n",
            "| RNXGKYVCJDDL7|          5|           28|         28|   N|                Y|\n",
            "|R1E8V7J0K61754|          5|           18|         20|   N|                Y|\n",
            "| RK52L3B5733BH|          5|           22|         22|   N|                N|\n",
            "|R213PW7RSI6Z7N|          5|           48|         50|   N|                Y|\n",
            "+--------------+-----------+-------------+-----------+----+-----------------+\n",
            "only showing top 10 rows\n",
            "\n"
          ]
        }
      ]
    },
    {
      "cell_type": "code",
      "metadata": {
        "colab": {
          "base_uri": "https://localhost:8080/"
        },
        "id": "DsL_hmhp4rCL",
        "outputId": "9cbd465c-94c8-4cbd-c5d7-9016bce14405"
      },
      "source": [
        "# Filter df_total_votes to retrieve all rows where helpful_votes divided by total_votes is equal or greater than 50%\n",
        "df_helpful_votes = df_total_votes.filter(df_total_votes[\"helpful_votes\"]/df_total_votes[\"total_votes\"] >= 0.5)\n",
        "df_helpful_votes.show(10)"
      ],
      "execution_count": 14,
      "outputs": [
        {
          "output_type": "stream",
          "name": "stdout",
          "text": [
            "+--------------+-----------+-------------+-----------+----+-----------------+\n",
            "|     review_id|star_rating|helpful_votes|total_votes|vine|verified_purchase|\n",
            "+--------------+-----------+-------------+-----------+----+-----------------+\n",
            "|R11IBSD5E6HPSD|          1|           29|         31|   N|                Y|\n",
            "|R2KVWAYBPWK1OV|          5|           20|         22|   N|                N|\n",
            "|R1FLOE9E4ODIGR|          5|           34|         38|   N|                Y|\n",
            "| R6XTEZCSCUJ4J|          5|           20|         23|   N|                Y|\n",
            "|R2WVV9LQKIVMOX|          5|           23|         23|   N|                N|\n",
            "| RYIU6GIB4TYT2|          5|           30|         30|   N|                N|\n",
            "| RNXGKYVCJDDL7|          5|           28|         28|   N|                Y|\n",
            "|R1E8V7J0K61754|          5|           18|         20|   N|                Y|\n",
            "| RK52L3B5733BH|          5|           22|         22|   N|                N|\n",
            "|R213PW7RSI6Z7N|          5|           48|         50|   N|                Y|\n",
            "+--------------+-----------+-------------+-----------+----+-----------------+\n",
            "only showing top 10 rows\n",
            "\n"
          ]
        }
      ]
    },
    {
      "cell_type": "code",
      "metadata": {
        "colab": {
          "base_uri": "https://localhost:8080/"
        },
        "id": "nkRx5VJY4q-M",
        "outputId": "8881ee7b-f117-425f-cb5c-7eaa0084f134"
      },
      "source": [
        "# Filter df_helpful_votes to retrieve all rows where vine == Y\n",
        "df_vine_yes = df_helpful_votes.filter(df_helpful_votes[\"vine\"] == \"Y\")\n",
        "df_vine_yes.show(10)"
      ],
      "execution_count": 43,
      "outputs": [
        {
          "output_type": "stream",
          "name": "stdout",
          "text": [
            "+--------------+-----------+-------------+-----------+----+-----------------+\n",
            "|     review_id|star_rating|helpful_votes|total_votes|vine|verified_purchase|\n",
            "+--------------+-----------+-------------+-----------+----+-----------------+\n",
            "| RPJ7C4HP3BHXN|          5|           25|         29|   Y|                N|\n",
            "|R3SB08XK0M7993|          4|           44|         49|   Y|                N|\n",
            "|R26X1DACMCN3YF|          3|           16|         21|   Y|                N|\n",
            "|R17HKKDE9ZRVOO|          4|           31|         35|   Y|                N|\n",
            "|R1R7GNSCMO8U7I|          4|           24|         28|   Y|                N|\n",
            "|R2T83WIPG3IX5D|          4|           72|         76|   Y|                N|\n",
            "| RD006IWFCUA5A|          5|          122|        133|   Y|                N|\n",
            "| REOQCBUVUPXP1|          4|           23|         27|   Y|                N|\n",
            "|R2336R80ZEOKTX|          5|           63|         63|   Y|                N|\n",
            "| RC1ZXE5GVL9TA|          4|           20|         23|   Y|                N|\n",
            "+--------------+-----------+-------------+-----------+----+-----------------+\n",
            "only showing top 10 rows\n",
            "\n"
          ]
        }
      ]
    },
    {
      "cell_type": "code",
      "metadata": {
        "colab": {
          "base_uri": "https://localhost:8080/"
        },
        "id": "0OJnAuEcRiqY",
        "outputId": "d1c373cc-8c08-45ff-ebb6-8d08229658e1"
      },
      "source": [
        "# Filter df_helpful_votes to retrieve all rows where vine == N\n",
        "df_vine_no = df_helpful_votes.filter(df_helpful_votes[\"vine\"] == \"N\")\n",
        "df_vine_no.show(10)"
      ],
      "execution_count": 41,
      "outputs": [
        {
          "output_type": "stream",
          "name": "stdout",
          "text": [
            "+--------------+-----------+-------------+-----------+----+-----------------+\n",
            "|     review_id|star_rating|helpful_votes|total_votes|vine|verified_purchase|\n",
            "+--------------+-----------+-------------+-----------+----+-----------------+\n",
            "|R11IBSD5E6HPSD|          1|           29|         31|   N|                Y|\n",
            "|R2KVWAYBPWK1OV|          5|           20|         22|   N|                N|\n",
            "|R1FLOE9E4ODIGR|          5|           34|         38|   N|                Y|\n",
            "| R6XTEZCSCUJ4J|          5|           20|         23|   N|                Y|\n",
            "|R2WVV9LQKIVMOX|          5|           23|         23|   N|                N|\n",
            "| RYIU6GIB4TYT2|          5|           30|         30|   N|                N|\n",
            "| RNXGKYVCJDDL7|          5|           28|         28|   N|                Y|\n",
            "|R1E8V7J0K61754|          5|           18|         20|   N|                Y|\n",
            "| RK52L3B5733BH|          5|           22|         22|   N|                N|\n",
            "|R213PW7RSI6Z7N|          5|           48|         50|   N|                Y|\n",
            "+--------------+-----------+-------------+-----------+----+-----------------+\n",
            "only showing top 10 rows\n",
            "\n"
          ]
        }
      ]
    },
    {
      "cell_type": "code",
      "metadata": {
        "colab": {
          "base_uri": "https://localhost:8080/"
        },
        "id": "zs9gAEhfRir5",
        "outputId": "ff660681-08e5-4e6c-f8d4-908b133d06c5"
      },
      "source": [
        "# Determine percentage of 5 star rating for paid vine reviews\n",
        "\n",
        "# total paid vine reviews\n",
        "total_paid = df_vine_yes.count()\n",
        "\n",
        "# total 5 star ratings\n",
        "five_star_reviews_paid = df_vine_yes.filter(df_vine_yes[\"star_rating\"] == 5).count()\n",
        "\n",
        "# find percentage of 5 star review for paid vine reviews\n",
        "percentage_paid = five_star_reviews_paid/total_paid * 100\n",
        "\n",
        "print(total_paid)\n",
        "print(five_star_reviews_paid)\n",
        "print(percentage_paid)\n"
      ],
      "execution_count": 35,
      "outputs": [
        {
          "output_type": "stream",
          "name": "stdout",
          "text": [
            "21\n",
            "10\n",
            "47.61904761904761\n"
          ]
        }
      ]
    },
    {
      "cell_type": "code",
      "metadata": {
        "colab": {
          "base_uri": "https://localhost:8080/"
        },
        "id": "s2S7w1lNRivA",
        "outputId": "a577517e-0535-4a9d-ce45-38cd78aa5760"
      },
      "source": [
        "# Determine percentage of 5 star rating for paid vine reviews\n",
        "\n",
        "# total unpaid vine reviews\n",
        "total_unpaid = df_vine_no.count()\n",
        "\n",
        "# total 5 star ratings (for unpaid vine reviews)\n",
        "five_star_reviews_unpaid = df_vine_no.filter(df_vine_no[\"star_rating\"] == 5).count()\n",
        "\n",
        "# find percentage of 5 star review for unpaid vine reviews\n",
        "percentage_unpaid = five_star_reviews_unpaid/total_unpaid * 100\n",
        "\n",
        "print(total_unpaid)\n",
        "print(five_star_reviews_unpaid)\n",
        "print(percentage_unpaid)"
      ],
      "execution_count": 37,
      "outputs": [
        {
          "output_type": "stream",
          "name": "stdout",
          "text": [
            "6690\n",
            "3448\n",
            "51.53961136023917\n"
          ]
        }
      ]
    }
  ]
}